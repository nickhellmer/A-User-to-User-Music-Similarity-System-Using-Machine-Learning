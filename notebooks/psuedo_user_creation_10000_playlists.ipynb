{
 "cells": [
  {
   "cell_type": "code",
   "execution_count": 1,
   "id": "1488aeac",
   "metadata": {},
   "outputs": [],
   "source": [
    "import kagglehub\n",
    "import json\n",
    "from collections import Counter\n",
    "import os\n",
    "from scipy.sparse import csr_matrix\n",
    "import numpy as np\n",
    "from sklearn.cluster import KMeans\n",
    "from sklearn.preprocessing import normalize\n",
    "import matplotlib.pyplot as plt\n",
    "from scipy.sparse import csr_matrix\n",
    "from collections import defaultdict"
   ]
  },
  {
   "cell_type": "markdown",
   "id": "a2491a1d",
   "metadata": {},
   "source": [
    "# 1. Download the dataset from Kaggle's API"
   ]
  },
  {
   "cell_type": "code",
   "execution_count": 2,
   "id": "0ec41b14",
   "metadata": {},
   "outputs": [
    {
     "name": "stdout",
     "output_type": "stream",
     "text": [
      "📁 Dataset path: /Users/nickhellmer/.cache/kagglehub/datasets/himanshuwagh/spotify-million/versions/1\n"
     ]
    }
   ],
   "source": [
    "# download the data\n",
    "import kagglehub\n",
    "\n",
    "# Download the dataset (cached locally if already downloaded)\n",
    "path = kagglehub.dataset_download(\"himanshuwagh/spotify-million\")\n",
    "\n",
    "print(\"📁 Dataset path:\", path)"
   ]
  },
  {
   "cell_type": "markdown",
   "id": "238b91ba",
   "metadata": {},
   "source": [
    "# 2. Exploring the data"
   ]
  },
  {
   "cell_type": "code",
   "execution_count": 3,
   "id": "37772c66",
   "metadata": {},
   "outputs": [
    {
     "name": "stdout",
     "output_type": "stream",
     "text": [
      "Total files: 6\n",
      "First 5 files: ['README.md', 'data', 'license.txt', 'md5sums', 'src']\n"
     ]
    }
   ],
   "source": [
    "import os\n",
    "\n",
    "data_dir = os.path.expanduser(\"~/.cache/kagglehub/datasets/himanshuwagh/spotify-million/versions/1\")\n",
    "slice_files = sorted(os.listdir(data_dir))\n",
    "print(\"Total files:\", len(slice_files))\n",
    "print(\"First 5 files:\", slice_files[:5])"
   ]
  },
  {
   "cell_type": "code",
   "execution_count": 4,
   "id": "9110e436",
   "metadata": {},
   "outputs": [
    {
     "name": "stdout",
     "output_type": "stream",
     "text": [
      "Total JSON slice files: 1000\n",
      "First 5 slices: ['mpd.slice.0-999.json', 'mpd.slice.1000-1999.json', 'mpd.slice.10000-10999.json', 'mpd.slice.100000-100999.json', 'mpd.slice.101000-101999.json']\n"
     ]
    }
   ],
   "source": [
    "# update data directory to location of the 1,000 JSONs\n",
    "data_dir = os.path.expanduser(\"~/.cache/kagglehub/datasets/himanshuwagh/spotify-million/versions/1/data\")\n",
    "# inspect again \n",
    "slice_files = sorted(os.listdir(data_dir))\n",
    "print(\"Total JSON slice files:\", len(slice_files))\n",
    "print(\"First 5 slices:\", slice_files[:5])"
   ]
  },
  {
   "cell_type": "markdown",
   "id": "c79162af",
   "metadata": {},
   "source": [
    "# 3. Building the synthetic users\n",
    "\n",
    "One limitation I realized in our clustering approach is that it only groups playlists based on raw artist overlap — that is, playlists are treated as similar only if they share at least some of the same artists. But in reality, I personally have playlists that don’t share any artists with each other but still reflect my personal taste. For example, I might have a classic rock playlist and a separate indie playlist with zero artist overlap, yet both belong to me. This means that real users often span multiple “disjoint” musical clusters. In our synthetic user generation, however, playlists will almost always be linked through at least one common artist, which isn’t always realistic. A future improvement could involve incorporating artist similarity into our playlist vectors. Once we develop a model to quantify how similar artists are to one another (e.g., via embeddings or co-occurrence data), we could smooth or augment each playlist’s artist vector by boosting the weights of similar artists. This would allow playlists with non-overlapping but stylistically related artists to still be clustered together, better reflecting how real users listen across genres."
   ]
  },
  {
   "cell_type": "markdown",
   "id": "a798ccad",
   "metadata": {},
   "source": [
    "## *3.1 Creating the playlist vectors via raw artist counts*"
   ]
  },
  {
   "cell_type": "code",
   "execution_count": 5,
   "id": "24e1b5e8",
   "metadata": {},
   "outputs": [],
   "source": [
    "from collections import Counter\n",
    "import json\n",
    "import os\n",
    "from scipy.sparse import csr_matrix\n",
    "import numpy as np"
   ]
  },
  {
   "cell_type": "markdown",
   "id": "202e0881",
   "metadata": {},
   "source": [
    "## OPTIONAL: load multiple slices to increase number of playlists from 1000"
   ]
  },
  {
   "cell_type": "code",
   "execution_count": 6,
   "id": "5f5d41d1",
   "metadata": {},
   "outputs": [],
   "source": [
    "# function to load more than one slice \n",
    "# also saves original data in dictionary format to update later \n",
    "def load_artist_vectors_multiple(slice_paths, return_playlists=True):\n",
    "    playlist_ids = []\n",
    "    artist_vectors = []\n",
    "    all_playlists = []  # for optional return\n",
    "\n",
    "    for slice_path in slice_paths:\n",
    "        with open(slice_path, \"r\") as f:\n",
    "            data = json.load(f)\n",
    "\n",
    "        playlists = data[\"playlists\"]\n",
    "        if return_playlists:\n",
    "            all_playlists.extend(playlists)\n",
    "\n",
    "        for p in playlists:\n",
    "            artist_counts = Counter(track[\"artist_uri\"] for track in p[\"tracks\"])\n",
    "            artist_vectors.append(artist_counts)\n",
    "            playlist_ids.append(p[\"pid\"])\n",
    "\n",
    "    if return_playlists:\n",
    "        return playlist_ids, artist_vectors, {\"playlists\": all_playlists}\n",
    "    else:\n",
    "        return playlist_ids, artist_vectors\n",
    "\n",
    "# inits: specify number of slices \n",
    "NUM_SLICES = 10\n",
    "slice_files = sorted([f for f in os.listdir(data_dir) if f.endswith(\".json\")])\n",
    "slice_paths = [os.path.join(data_dir, fname) for fname in slice_files[:NUM_SLICES]]\n",
    "\n",
    "# call function \n",
    "playlist_ids, artist_vectors, playlist_dicts = load_artist_vectors_multiple(slice_paths)"
   ]
  },
  {
   "cell_type": "markdown",
   "id": "be1b31b3",
   "metadata": {},
   "source": [
    "## *3.2 Creating the sparse matrix of playlist vectors*"
   ]
  },
  {
   "cell_type": "code",
   "execution_count": 7,
   "id": "3cda39b7",
   "metadata": {},
   "outputs": [],
   "source": [
    "def build_sparse_matrix(artist_vectors):\n",
    "    # create list of of all unique artists\n",
    "    unique_artists = {}\n",
    "    for vec in artist_vectors:\n",
    "        for artist in vec:\n",
    "            if artist not in unique_artists:\n",
    "                unique_artists[artist] = len(unique_artists)\n",
    "\n",
    "    # create data for the sparse matrix\n",
    "    rows, cols, data = [], [], []\n",
    "    for row_idx, vec in enumerate(artist_vectors):\n",
    "        for artist, count in vec.items():\n",
    "            col_idx = unique_artists[artist]\n",
    "            rows.append(row_idx)\n",
    "            cols.append(col_idx)\n",
    "            data.append(count)\n",
    "\n",
    "    # create sparse matrix\n",
    "    matrix = csr_matrix((data, (rows, cols)), shape=(len(artist_vectors), len(unique_artists)))\n",
    "    return matrix, unique_artists"
   ]
  },
  {
   "cell_type": "code",
   "execution_count": 8,
   "id": "9b644fa0",
   "metadata": {},
   "outputs": [
    {
     "name": "stdout",
     "output_type": "stream",
     "text": [
      "Matrix shape: (10000, 35743)\n"
     ]
    }
   ],
   "source": [
    "sparse_matrix, artist_vocab = build_sparse_matrix(artist_vectors)\n",
    "\n",
    "# check\n",
    "print(\"Matrix shape:\", sparse_matrix.shape)\n",
    "# print(\"Playlists loaded:\", len(playlist_dicts))"
   ]
  },
  {
   "cell_type": "markdown",
   "id": "ffba4dc9",
   "metadata": {},
   "source": [
    "## *3.3 Creating the synthetic users*\n",
    "- Idea 1: talk about how kmeans vs kmediods was considered. Provide reasoning as to why kmeans (the selected method) works even tho we are using cosine similarity as our distance metric instead of euclidean (bc we are normalizing the vectors first)\n",
    "- Idea 2: instead of performing kmeans by finding and using the optimal k (number of clusters), can instead determine the number of clusters based on the average number of playists a standard spotify user has \n",
    "> this link https://soundplate.com/how-many-playlists-are-there-on-spotify-and-other-spotify-stats/ claims that as of 2024 there were 356 million spotify users and 8 billion user-curated playlists. This means the average user has ~23 playlists."
   ]
  },
  {
   "cell_type": "markdown",
   "id": "d9ff8ea0",
   "metadata": {},
   "source": [
    "## *3.3.1 Use kmeans to create clusters*"
   ]
  },
  {
   "cell_type": "code",
   "execution_count": 9,
   "id": "8db43bd6",
   "metadata": {},
   "outputs": [],
   "source": [
    "from sklearn.cluster import KMeans\n",
    "from sklearn.preprocessing import normalize\n",
    "import matplotlib.pyplot as plt\n",
    "from scipy.sparse import csr_matrix\n",
    "import numpy as np"
   ]
  },
  {
   "cell_type": "code",
   "execution_count": 10,
   "id": "d64537b3",
   "metadata": {},
   "outputs": [],
   "source": [
    "def cluster_playlists_kmeans(X, k_range=range(2, 30), plot_elbow=True, return_best_k=False, random_state=42, \n",
    "                            fixed_k = None, playlists_per_user = 23):\n",
    "\n",
    "    \"\"\"\n",
    "    Performs K-means clustering on L2-normalized sparse artist vectors.\n",
    "\n",
    "    Parameters:\n",
    "        X (matrix) : Sparse matrix of raw artist count vectors\n",
    "        k_range : Range of number of clusters (synthetic users) to test\n",
    "        random_state : Random seed for reproducibility\n",
    "        return_best_k : Whether to return the optimal k based on the elbow method\n",
    "        fixed_k (int or None): if set, overrides optimal k search and uses this k instead\n",
    "        playlists_per_user: user to determine if k if fixed_k is None and you want k = len(X) // playlists per user\n",
    "    Returns:\n",
    "        labels (ndarray): Cluster label for each playlist\n",
    "        kmeans (KMeans object): Trained KMeans model\n",
    "        best_k (int): Best k value selected\n",
    "    \"\"\"\n",
    "    # L2 normalize\n",
    "    X_norm = normalize(X, norm='l2', axis=1)\n",
    "    \n",
    "    # OPTION 1: if a fixed k is set\n",
    "    if fixed_k is not None:\n",
    "        k = fixed_k\n",
    "        print(f\"Using manually specified k = {k}\")\n",
    "        final_model = KMeans(n_clusters=k, random_state=random_state, n_init='auto')\n",
    "        final_model.fit(X_norm)\n",
    "        if return_best_k:\n",
    "            return final_model.labels_, final_model, k\n",
    "        else:\n",
    "            return final_model.labels_, final_model\n",
    "    \n",
    "    # OPTION 2: choose k to achieve the desired number of playlists per user\n",
    "    if k_range is None:\n",
    "        k = max(2, len(X) // playlists_per_user)\n",
    "        print(f\"Using playlists_per_user={playlists_per_user}, derived k = {k}\")\n",
    "        final_model = KMeans(n_clusters=k, random_state=random_state, n_init='auto')\n",
    "        final_model.fit(X_norm)\n",
    "        if return_best_k:\n",
    "            return final_model.labels_, final_model, k\n",
    "        else:\n",
    "            return final_model.labels_, final_model\n",
    "    \n",
    "    # OPTION 3: find best k (elbow method)\n",
    "    inertias = []\n",
    "    print(\"Running K-means for k =\", list(k_range))\n",
    "    for k in k_range:\n",
    "        model = KMeans(n_clusters=k, random_state=random_state, n_init='auto')\n",
    "        model.fit(X_norm)\n",
    "        inertias.append(model.inertia_)\n",
    "        print(\"Finished K-means for k =\", k)\n",
    "\n",
    "    if plot_elbow:\n",
    "        plt.plot(k_range, inertias, marker='o')\n",
    "        plt.xlabel('Number of Clusters (k)')\n",
    "        plt.ylabel('Inertia (sum of squared distances)')\n",
    "        plt.title('Elbow Method for Optimal k')\n",
    "        plt.grid(True)\n",
    "        plt.show()\n",
    "\n",
    "    # find k with diminishing marginal returns (minimum of secondary differences)\n",
    "    diffs = np.diff(inertias)\n",
    "    second_diffs = np.diff(diffs)\n",
    "    best_k_idx = np.argmin(second_diffs) + 2\n",
    "    best_k = k_range[best_k_idx]\n",
    "\n",
    "    print(f\"Best k selected (via elbow heuristic): {best_k}\")\n",
    "\n",
    "    # Final fit\n",
    "    final_model = KMeans(n_clusters=best_k, random_state=random_state, n_init='auto')\n",
    "    final_model.fit(X_norm)\n",
    "\n",
    "    if return_best_k:\n",
    "        return final_model.labels_, final_model, best_k\n",
    "    else:\n",
    "        return final_model.labels_, final_model"
   ]
  },
  {
   "cell_type": "markdown",
   "id": "49901687",
   "metadata": {},
   "source": [
    "<span style=\"color:blue\">\n",
    "\n",
    "### 3.3.1.a Determine Number of Users Using Optimal k (elbow method)\n",
    "    \n",
    "# EDITED SLIGHTLY - changed the k range"
   ]
  },
  {
   "cell_type": "code",
   "execution_count": 11,
   "id": "70aeb221",
   "metadata": {},
   "outputs": [
    {
     "name": "stdout",
     "output_type": "stream",
     "text": [
      "Running K-means for k = [217, 244, 271, 298, 325, 352, 379, 406, 433, 460, 487, 514, 541, 568, 595, 622, 649]\n",
      "Finished K-means for k = 217\n",
      "Finished K-means for k = 244\n",
      "Finished K-means for k = 271\n",
      "Finished K-means for k = 298\n",
      "Finished K-means for k = 325\n",
      "Finished K-means for k = 352\n",
      "Finished K-means for k = 379\n",
      "Finished K-means for k = 406\n",
      "Finished K-means for k = 433\n",
      "Finished K-means for k = 460\n",
      "Finished K-means for k = 487\n",
      "Finished K-means for k = 514\n",
      "Finished K-means for k = 541\n",
      "Finished K-means for k = 568\n",
      "Finished K-means for k = 595\n",
      "Finished K-means for k = 622\n",
      "Finished K-means for k = 649\n"
     ]
    },
    {
     "data": {
      "image/png": "[encoded data removed]",
      "text/plain": [
       "<Figure size 640x480 with 1 Axes>"
      ]
     },
     "metadata": {},
     "output_type": "display_data"
    },
    {
     "name": "stdout",
     "output_type": "stream",
     "text": [
      "Best k selected (via elbow heuristic): 433\n"
     ]
    }
   ],
   "source": [
    "### elbow method ###\n",
    "# estimate best k based on average number of playlists \n",
    "avg_playlists_per_user = 23\n",
    "estimated_k = sparse_matrix.shape[0] // avg_playlists_per_user\n",
    "step = max(10, estimated_k // 16)\n",
    "k_range_dynamic = range(max(10, estimated_k // 2), min(int(estimated_k * 1.5), 3000), step)\n",
    "\n",
    "# call function\n",
    "cluster_labels, kmeans_model, best_k = cluster_playlists_kmeans(\n",
    "    sparse_matrix, k_range=k_range_dynamic, return_best_k=True)"
   ]
  },
  {
   "cell_type": "markdown",
   "id": "b8b50991",
   "metadata": {},
   "source": [
    "<span style=\"color:blue\">\n",
    "\n",
    "### 3.3.1.b Determine Number of Users by Average # of Playlists for a typical user\n",
    "\n",
    "# EDITED CELL DIRECTLY BELOW SLIGHTLY"
   ]
  },
  {
   "cell_type": "code",
   "execution_count": 12,
   "id": "756f245d",
   "metadata": {},
   "outputs": [
    {
     "name": "stdout",
     "output_type": "stream",
     "text": [
      "Using manually specified k = 434\n"
     ]
    }
   ],
   "source": [
    "num_playlists = sparse_matrix.shape[0]\n",
    "avg_playlists_per_user = 23\n",
    "estimated_k = num_playlists // avg_playlists_per_user\n",
    "\n",
    "# num of playlists per user method\n",
    "cluster_labels_23, kmeans_model_23, k_23 = cluster_playlists_kmeans(\n",
    "    sparse_matrix, fixed_k=estimated_k, return_best_k=True)"
   ]
  },
  {
   "cell_type": "markdown",
   "id": "645db9e3",
   "metadata": {},
   "source": [
    "## *3.3.2 Extract data from clusters to create users and create new synthetic dataset*"
   ]
  },
  {
   "cell_type": "code",
   "execution_count": 13,
   "id": "0bf9b6a3",
   "metadata": {},
   "outputs": [],
   "source": [
    "from collections import defaultdict"
   ]
  },
  {
   "cell_type": "code",
   "execution_count": 14,
   "id": "9c001cc5",
   "metadata": {},
   "outputs": [],
   "source": [
    "def extract_synthetic_users(cluster_labels, playlist_dicts): \n",
    "    \"\"\"    \n",
    "    Parameters:\n",
    "        cluster_labels (ndarray): Cluster label for each playlist\n",
    "        playlist_dicts (list): Full playlist dicts\n",
    "    Returns:\n",
    "        List of synthetic user JSON objects\n",
    "    \"\"\"\n",
    "\n",
    "    user_playlists = defaultdict(list)\n",
    "\n",
    "    for i, cluster_id in enumerate(cluster_labels):\n",
    "        user_playlists[cluster_id].append(playlist_dicts[i])\n",
    "\n",
    "    synthetic_users = []\n",
    "    for user_id, playlists in user_playlists.items():\n",
    "        synthetic_users.append({\n",
    "            \"username\": f\"user_{user_id:04x}\",\n",
    "            \"playlists\": playlists\n",
    "        })\n",
    "\n",
    "    return synthetic_users"
   ]
  },
  {
   "cell_type": "markdown",
   "id": "685e3195",
   "metadata": {},
   "source": [
    "<span style=\"color:blue\">\n",
    "\n",
    "### 3.3.2.a Elbow method"
   ]
  },
  {
   "cell_type": "code",
   "execution_count": 15,
   "id": "93896432",
   "metadata": {},
   "outputs": [],
   "source": [
    "# elbow method\n",
    "playlist_dicts = playlist_dicts[\"playlists\"]  # from JSON slice file\n",
    "synthetic_json = extract_synthetic_users(cluster_labels, playlist_dicts)"
   ]
  },
  {
   "cell_type": "markdown",
   "id": "287b6909",
   "metadata": {},
   "source": [
    "<span style=\"color:blue\">\n",
    "\n",
    "### 3.3.2.b Average # of Playlists\n",
    "    \n",
    "# EDITED - commented out one line"
   ]
  },
  {
   "cell_type": "code",
   "execution_count": 16,
   "id": "c6eddbdf",
   "metadata": {},
   "outputs": [],
   "source": [
    "# num of playlists per user method\n",
    "# playlist_dicts = playlist_dicts[\"playlists\"]  # from JSON slice file\n",
    "synthetic_json_23 = extract_synthetic_users(cluster_labels_23, playlist_dicts)"
   ]
  },
  {
   "cell_type": "markdown",
   "id": "c9035641",
   "metadata": {},
   "source": [
    "## *3.3.3 Inspecting the new synthetic json dataset*"
   ]
  },
  {
   "cell_type": "code",
   "execution_count": 17,
   "id": "402b1a1a",
   "metadata": {},
   "outputs": [],
   "source": [
    "import json\n",
    "from collections import defaultdict\n",
    "import numpy as np"
   ]
  },
  {
   "cell_type": "code",
   "execution_count": 18,
   "id": "3be40465",
   "metadata": {},
   "outputs": [],
   "source": [
    "# Summary statistics function\n",
    "def summarize(name, data):\n",
    "    print(f\"\\n{name}:\")\n",
    "    print(f\"  Avg: {np.mean(data):.2f}\")\n",
    "    print(f\"  Min: {np.min(data)}\")\n",
    "    print(f\"  Max: {np.max(data)}\")"
   ]
  },
  {
   "cell_type": "markdown",
   "id": "60bd7d8d",
   "metadata": {},
   "source": [
    "<span style=\"color:blue\">\n",
    "\n",
    "### 3.3.3.a Elbow method"
   ]
  },
  {
   "cell_type": "code",
   "execution_count": 19,
   "id": "ce1e6097",
   "metadata": {},
   "outputs": [
    {
     "name": "stdout",
     "output_type": "stream",
     "text": [
      "Total synthetic users: 433\n",
      "\n",
      "Playlists per user:\n",
      "  Avg: 23.09\n",
      "  Min: 1\n",
      "  Max: 868\n",
      "\n",
      "Unique tracks per user:\n",
      "  Avg: 1082.88\n",
      "  Min: 22\n",
      "  Max: 38100\n",
      "\n",
      "Unique artists per user:\n",
      "  Avg: 468.83\n",
      "  Min: 11\n",
      "  Max: 13279\n"
     ]
    }
   ],
   "source": [
    "### elbow method ###\n",
    "# Initialize lists to store per-user stats\n",
    "playlist_counts = []\n",
    "unique_track_counts = []\n",
    "unique_artist_counts = []\n",
    "\n",
    "for user in synthetic_json:\n",
    "    playlist_counts.append(len(user[\"playlists\"]))\n",
    "\n",
    "    user_tracks = set()\n",
    "    user_artists = set()\n",
    "\n",
    "    for pl in user[\"playlists\"]:\n",
    "        for track in pl.get(\"tracks\", []):\n",
    "            user_tracks.add(track[\"track_uri\"])\n",
    "            user_artists.add(track[\"artist_uri\"])\n",
    "\n",
    "    unique_track_counts.append(len(user_tracks))\n",
    "    unique_artist_counts.append(len(user_artists))\n",
    "    \n",
    "# Summary statistics\n",
    "print(f\"Total synthetic users: {len(synthetic_json)}\")\n",
    "summarize(\"Playlists per user\", playlist_counts)\n",
    "summarize(\"Unique tracks per user\", unique_track_counts)\n",
    "summarize(\"Unique artists per user\", unique_artist_counts)"
   ]
  },
  {
   "cell_type": "markdown",
   "id": "01aaab8a",
   "metadata": {},
   "source": [
    "<span style=\"color:blue\">\n",
    "\n",
    "### 3.3.3.b Average # of Playlists"
   ]
  },
  {
   "cell_type": "code",
   "execution_count": 20,
   "id": "3f6ac659",
   "metadata": {},
   "outputs": [
    {
     "name": "stdout",
     "output_type": "stream",
     "text": [
      "Total synthetic users: 434\n",
      "\n",
      "Playlists per user:\n",
      "  Avg: 23.04\n",
      "  Min: 1\n",
      "  Max: 859\n",
      "\n",
      "Unique tracks per user:\n",
      "  Avg: 1080.34\n",
      "  Min: 22\n",
      "  Max: 37605\n",
      "\n",
      "Unique artists per user:\n",
      "  Avg: 467.79\n",
      "  Min: 11\n",
      "  Max: 13130\n"
     ]
    }
   ],
   "source": [
    "### num of playlists per user method ###\n",
    "# Initialize lists to store per-user stats\n",
    "playlist_counts_23 = []\n",
    "unique_track_counts_23 = []\n",
    "unique_artist_counts_23 = []\n",
    "\n",
    "for user in synthetic_json_23:\n",
    "    playlist_counts_23.append(len(user[\"playlists\"]))\n",
    "\n",
    "    user_tracks_23 = set()\n",
    "    user_artists_23 = set()\n",
    "\n",
    "    for pl in user[\"playlists\"]:\n",
    "        for track in pl.get(\"tracks\", []):\n",
    "            user_tracks_23.add(track[\"track_uri\"])\n",
    "            user_artists_23.add(track[\"artist_uri\"])\n",
    "\n",
    "    unique_track_counts_23.append(len(user_tracks_23))\n",
    "    unique_artist_counts_23.append(len(user_artists_23))\n",
    "    \n",
    "# Summary statistics\n",
    "print(f\"Total synthetic users: {len(synthetic_json_23)}\")\n",
    "summarize(\"Playlists per user\", playlist_counts_23)\n",
    "summarize(\"Unique tracks per user\", unique_track_counts_23)\n",
    "summarize(\"Unique artists per user\", unique_artist_counts_23)"
   ]
  },
  {
   "cell_type": "markdown",
   "id": "a901c302",
   "metadata": {},
   "source": [
    "<span style=\"color:blue\">\n",
    "\n",
    "## 3.4 (Optional) Save New Data to json files\n",
    "**Run the code below to save both jsons**\n",
    "- Elbow Method - data is held in **synthetic_json_{NUM_SLICES}000** and will save a corresponding data file names **pseudo-users-elbow-data.json** to your working directly\n",
    "- Average # of Playlists - data is held in **synthetic_json_{NUM_SLICES}000_23** and will save a corresponding data file names **psuedo-users-avg-playlists_data.json** to your working directly"
   ]
  },
  {
   "cell_type": "code",
   "execution_count": 21,
   "id": "4afdceec",
   "metadata": {},
   "outputs": [],
   "source": [
    "# ### Elbow method - Save to file ###\n",
    "# import json\n",
    "# with open(f\"pseudo_users_elbow_data_{NUM_SLICES}000.json\", \"w\") as f: # filename to save under \n",
    "#     json.dump(synthetic_json, f, indent=2) # contents from code to save \n",
    "\n",
    "# ### Average # of Playlists - Save to file ###\n",
    "# import json\n",
    "# with open(f\"psuedo_users_avg_playlists_data_{NUM_SLICES}000.json\", \"w\") as f:\n",
    "#     json.dump(synthetic_json_23, f, indent=2)"
   ]
  },
  {
   "cell_type": "code",
   "execution_count": null,
   "id": "2ce5fc51",
   "metadata": {},
   "outputs": [],
   "source": []
  }
 ],
 "metadata": {
  "kernelspec": {
   "display_name": "Python 3 (ipykernel)",
   "language": "python",
   "name": "python3"
  },
  "language_info": {
   "codemirror_mode": {
    "name": "ipython",
    "version": 3
   },
   "file_extension": ".py",
   "mimetype": "text/x-python",
   "name": "python",
   "nbconvert_exporter": "python",
   "pygments_lexer": "ipython3",
   "version": "3.11.7"
  }
 },
 "nbformat": 4,
 "nbformat_minor": 5
}
